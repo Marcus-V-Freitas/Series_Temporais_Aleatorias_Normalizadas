{
  "nbformat": 4,
  "nbformat_minor": 0,
  "metadata": {
    "colab": {
      "name": "Séries Temporais Aleatórias Com Distribuição Normal.ipynb",
      "provenance": [],
      "collapsed_sections": [
        "SVvHJmXyhlUO",
        "RpTIpvWYh6oc",
        "er30xkS3mucO",
        "K-15O-_cm2I6",
        "pi04gIewm3vd"
      ]
    },
    "kernelspec": {
      "name": "python3",
      "display_name": "Python 3"
    },
    "language_info": {
      "name": "python"
    }
  },
  "cells": [
    {
      "cell_type": "markdown",
      "metadata": {
        "id": "uoxqW6rjiBwJ"
      },
      "source": [
        "#Séries Temporais Aleatórias Com Distribuição Normal"
      ]
    },
    {
      "cell_type": "markdown",
      "metadata": {
        "id": "SVvHJmXyhlUO"
      },
      "source": [
        "## Importar Libs e Configurações Iniciais"
      ]
    },
    {
      "cell_type": "code",
      "metadata": {
        "id": "fms9t2GKhUlf"
      },
      "source": [
        "import pandas as pd\n",
        "import numpy as np \n",
        "import matplotlib.pyplot as plt\n",
        "import scipy.stats as stats\n",
        "\n",
        "from matplotlib.pylab import rcParams"
      ],
      "execution_count": 29,
      "outputs": []
    },
    {
      "cell_type": "markdown",
      "metadata": {
        "id": "-GT40GYihwub"
      },
      "source": [
        "Aumentar o tamanho padrão da representação do matplotlib (maior horizontalmente, ideal para séries temporais)."
      ]
    },
    {
      "cell_type": "code",
      "metadata": {
        "id": "mccK5zQ9hfyC"
      },
      "source": [
        "rcParams['figure.figsize'] = 15, 6"
      ],
      "execution_count": null,
      "outputs": []
    },
    {
      "cell_type": "markdown",
      "metadata": {
        "id": "RpTIpvWYh6oc"
      },
      "source": [
        "## Série Anual"
      ]
    },
    {
      "cell_type": "markdown",
      "metadata": {
        "id": "Gu9n3XQBiA0S"
      },
      "source": [
        "Criação de Série com Valores Aleatórios entre 1980 e 2020\n",
        "\n",
        "* Média aprox.: 0\n",
        "* Desvio Padrão aprox.: 1\n",
        "* Quantidade de valores: 41"
      ]
    },
    {
      "cell_type": "code",
      "metadata": {
        "colab": {
          "base_uri": "https://localhost:8080/"
        },
        "id": "-4a5CB4AiVo2",
        "outputId": "9d3b3c16-b1a2-4d5d-8637-2cf28dcccc53"
      },
      "source": [
        "np.random.seed(10)\n",
        "dados1 = np.random.normal(0, 1, 41)\n",
        "dados1"
      ],
      "execution_count": 19,
      "outputs": [
        {
          "output_type": "execute_result",
          "data": {
            "text/plain": [
              "array([ 1.3315865 ,  0.71527897, -1.54540029, -0.00838385,  0.62133597,\n",
              "       -0.72008556,  0.26551159,  0.10854853,  0.00429143, -0.17460021,\n",
              "        0.43302619,  1.20303737, -0.96506567,  1.02827408,  0.22863013,\n",
              "        0.44513761, -1.13660221,  0.13513688,  1.484537  , -1.07980489,\n",
              "       -1.97772828, -1.7433723 ,  0.26607016,  2.38496733,  1.12369125,\n",
              "        1.67262221,  0.09914922,  1.39799638, -0.27124799,  0.61320418,\n",
              "       -0.26731719, -0.54930901,  0.1327083 , -0.47614201,  1.30847308,\n",
              "        0.19501328,  0.40020999, -0.33763234,  1.25647226, -0.7319695 ,\n",
              "        0.66023155])"
            ]
          },
          "metadata": {},
          "execution_count": 19
        }
      ]
    },
    {
      "cell_type": "code",
      "metadata": {
        "colab": {
          "base_uri": "https://localhost:8080/"
        },
        "id": "JcEZ9fUXjASY",
        "outputId": "8c436017-cc44-455f-b997-ae6214712114"
      },
      "source": [
        "type(dados1)"
      ],
      "execution_count": 8,
      "outputs": [
        {
          "output_type": "execute_result",
          "data": {
            "text/plain": [
              "numpy.ndarray"
            ]
          },
          "metadata": {},
          "execution_count": 8
        }
      ]
    },
    {
      "cell_type": "markdown",
      "metadata": {
        "id": "drpc9JT4moUz"
      },
      "source": [
        "Transformação do Array em Series"
      ]
    },
    {
      "cell_type": "code",
      "metadata": {
        "id": "YTpWx20IjGzh"
      },
      "source": [
        "serie = pd.Series(dados1)"
      ],
      "execution_count": 9,
      "outputs": []
    },
    {
      "cell_type": "code",
      "metadata": {
        "colab": {
          "base_uri": "https://localhost:8080/"
        },
        "id": "wr8EwE9vjMNR",
        "outputId": "4fe26962-0a1e-4091-e12e-4aec7f7e280a"
      },
      "source": [
        "type(serie) "
      ],
      "execution_count": 10,
      "outputs": [
        {
          "output_type": "execute_result",
          "data": {
            "text/plain": [
              "pandas.core.series.Series"
            ]
          },
          "metadata": {},
          "execution_count": 10
        }
      ]
    },
    {
      "cell_type": "markdown",
      "metadata": {
        "id": "K06ueAFdmYz7"
      },
      "source": [
        "Plotagem simples da série sem os anos inclusos"
      ]
    },
    {
      "cell_type": "code",
      "metadata": {
        "colab": {
          "base_uri": "https://localhost:8080/",
          "height": 265
        },
        "id": "ApIAq9NRjQhs",
        "outputId": "3184c31f-0df6-40ad-9b70-448c773549c3"
      },
      "source": [
        "serie.plot()\n",
        "plt.show()"
      ],
      "execution_count": 11,
      "outputs": [
        {
          "output_type": "display_data",
          "data": {
            "image/png": "[encoded data removed]",
            "text/plain": [
              "<Figure size 432x288 with 1 Axes>"
            ]
          },
          "metadata": {
            "needs_background": "light"
          }
        }
      ]
    },
    {
      "cell_type": "markdown",
      "metadata": {
        "id": "Hc1qg4KzmdJF"
      },
      "source": [
        "Criação de DataFrame para facilitar manipulação"
      ]
    },
    {
      "cell_type": "code",
      "metadata": {
        "colab": {
          "base_uri": "https://localhost:8080/",
          "height": 1000
        },
        "id": "rUw6KChGjVLR",
        "outputId": "ac2f1147-d25e-4c38-978f-75cf0d39cc88"
      },
      "source": [
        "dados1 = pd.DataFrame(dados1,columns=['valores'])\n",
        "dados1"
      ],
      "execution_count": 20,
      "outputs": [
        {
          "output_type": "execute_result",
          "data": {
            "text/html": [
              "<div>\n",
              "<style scoped>\n",
              "    .dataframe tbody tr th:only-of-type {\n",
              "        vertical-align: middle;\n",
              "    }\n",
              "\n",
              "    .dataframe tbody tr th {\n",
              "        vertical-align: top;\n",
              "    }\n",
              "\n",
              "    .dataframe thead th {\n",
              "        text-align: right;\n",
              "    }\n",
              "</style>\n",
              "<table border=\"1\" class=\"dataframe\">\n",
              "  <thead>\n",
              "    <tr style=\"text-align: right;\">\n",
              "      <th></th>\n",
              "      <th>valores</th>\n",
              "    </tr>\n",
              "  </thead>\n",
              "  <tbody>\n",
              "    <tr>\n",
              "      <th>0</th>\n",
              "      <td>1.331587</td>\n",
              "    </tr>\n",
              "    <tr>\n",
              "      <th>1</th>\n",
              "      <td>0.715279</td>\n",
              "    </tr>\n",
              "    <tr>\n",
              "      <th>2</th>\n",
              "      <td>-1.545400</td>\n",
              "    </tr>\n",
              "    <tr>\n",
              "      <th>3</th>\n",
              "      <td>-0.008384</td>\n",
              "    </tr>\n",
              "    <tr>\n",
              "      <th>4</th>\n",
              "      <td>0.621336</td>\n",
              "    </tr>\n",
              "    <tr>\n",
              "      <th>5</th>\n",
              "      <td>-0.720086</td>\n",
              "    </tr>\n",
              "    <tr>\n",
              "      <th>6</th>\n",
              "      <td>0.265512</td>\n",
              "    </tr>\n",
              "    <tr>\n",
              "      <th>7</th>\n",
              "      <td>0.108549</td>\n",
              "    </tr>\n",
              "    <tr>\n",
              "      <th>8</th>\n",
              "      <td>0.004291</td>\n",
              "    </tr>\n",
              "    <tr>\n",
              "      <th>9</th>\n",
              "      <td>-0.174600</td>\n",
              "    </tr>\n",
              "    <tr>\n",
              "      <th>10</th>\n",
              "      <td>0.433026</td>\n",
              "    </tr>\n",
              "    <tr>\n",
              "      <th>11</th>\n",
              "      <td>1.203037</td>\n",
              "    </tr>\n",
              "    <tr>\n",
              "      <th>12</th>\n",
              "      <td>-0.965066</td>\n",
              "    </tr>\n",
              "    <tr>\n",
              "      <th>13</th>\n",
              "      <td>1.028274</td>\n",
              "    </tr>\n",
              "    <tr>\n",
              "      <th>14</th>\n",
              "      <td>0.228630</td>\n",
              "    </tr>\n",
              "    <tr>\n",
              "      <th>15</th>\n",
              "      <td>0.445138</td>\n",
              "    </tr>\n",
              "    <tr>\n",
              "      <th>16</th>\n",
              "      <td>-1.136602</td>\n",
              "    </tr>\n",
              "    <tr>\n",
              "      <th>17</th>\n",
              "      <td>0.135137</td>\n",
              "    </tr>\n",
              "    <tr>\n",
              "      <th>18</th>\n",
              "      <td>1.484537</td>\n",
              "    </tr>\n",
              "    <tr>\n",
              "      <th>19</th>\n",
              "      <td>-1.079805</td>\n",
              "    </tr>\n",
              "    <tr>\n",
              "      <th>20</th>\n",
              "      <td>-1.977728</td>\n",
              "    </tr>\n",
              "    <tr>\n",
              "      <th>21</th>\n",
              "      <td>-1.743372</td>\n",
              "    </tr>\n",
              "    <tr>\n",
              "      <th>22</th>\n",
              "      <td>0.266070</td>\n",
              "    </tr>\n",
              "    <tr>\n",
              "      <th>23</th>\n",
              "      <td>2.384967</td>\n",
              "    </tr>\n",
              "    <tr>\n",
              "      <th>24</th>\n",
              "      <td>1.123691</td>\n",
              "    </tr>\n",
              "    <tr>\n",
              "      <th>25</th>\n",
              "      <td>1.672622</td>\n",
              "    </tr>\n",
              "    <tr>\n",
              "      <th>26</th>\n",
              "      <td>0.099149</td>\n",
              "    </tr>\n",
              "    <tr>\n",
              "      <th>27</th>\n",
              "      <td>1.397996</td>\n",
              "    </tr>\n",
              "    <tr>\n",
              "      <th>28</th>\n",
              "      <td>-0.271248</td>\n",
              "    </tr>\n",
              "    <tr>\n",
              "      <th>29</th>\n",
              "      <td>0.613204</td>\n",
              "    </tr>\n",
              "    <tr>\n",
              "      <th>30</th>\n",
              "      <td>-0.267317</td>\n",
              "    </tr>\n",
              "    <tr>\n",
              "      <th>31</th>\n",
              "      <td>-0.549309</td>\n",
              "    </tr>\n",
              "    <tr>\n",
              "      <th>32</th>\n",
              "      <td>0.132708</td>\n",
              "    </tr>\n",
              "    <tr>\n",
              "      <th>33</th>\n",
              "      <td>-0.476142</td>\n",
              "    </tr>\n",
              "    <tr>\n",
              "      <th>34</th>\n",
              "      <td>1.308473</td>\n",
              "    </tr>\n",
              "    <tr>\n",
              "      <th>35</th>\n",
              "      <td>0.195013</td>\n",
              "    </tr>\n",
              "    <tr>\n",
              "      <th>36</th>\n",
              "      <td>0.400210</td>\n",
              "    </tr>\n",
              "    <tr>\n",
              "      <th>37</th>\n",
              "      <td>-0.337632</td>\n",
              "    </tr>\n",
              "    <tr>\n",
              "      <th>38</th>\n",
              "      <td>1.256472</td>\n",
              "    </tr>\n",
              "    <tr>\n",
              "      <th>39</th>\n",
              "      <td>-0.731970</td>\n",
              "    </tr>\n",
              "    <tr>\n",
              "      <th>40</th>\n",
              "      <td>0.660232</td>\n",
              "    </tr>\n",
              "  </tbody>\n",
              "</table>\n",
              "</div>"
            ],
            "text/plain": [
              "     valores\n",
              "0   1.331587\n",
              "1   0.715279\n",
              "2  -1.545400\n",
              "3  -0.008384\n",
              "4   0.621336\n",
              "5  -0.720086\n",
              "6   0.265512\n",
              "7   0.108549\n",
              "8   0.004291\n",
              "9  -0.174600\n",
              "10  0.433026\n",
              "11  1.203037\n",
              "12 -0.965066\n",
              "13  1.028274\n",
              "14  0.228630\n",
              "15  0.445138\n",
              "16 -1.136602\n",
              "17  0.135137\n",
              "18  1.484537\n",
              "19 -1.079805\n",
              "20 -1.977728\n",
              "21 -1.743372\n",
              "22  0.266070\n",
              "23  2.384967\n",
              "24  1.123691\n",
              "25  1.672622\n",
              "26  0.099149\n",
              "27  1.397996\n",
              "28 -0.271248\n",
              "29  0.613204\n",
              "30 -0.267317\n",
              "31 -0.549309\n",
              "32  0.132708\n",
              "33 -0.476142\n",
              "34  1.308473\n",
              "35  0.195013\n",
              "36  0.400210\n",
              "37 -0.337632\n",
              "38  1.256472\n",
              "39 -0.731970\n",
              "40  0.660232"
            ]
          },
          "metadata": {},
          "execution_count": 20
        }
      ]
    },
    {
      "cell_type": "code",
      "metadata": {
        "colab": {
          "base_uri": "https://localhost:8080/"
        },
        "id": "A7kyuuNXjdPC",
        "outputId": "a7dc476a-8162-41f4-8d47-2e88d4233e60"
      },
      "source": [
        "dados1.shape"
      ],
      "execution_count": 22,
      "outputs": [
        {
          "output_type": "execute_result",
          "data": {
            "text/plain": [
              "(41, 1)"
            ]
          },
          "metadata": {},
          "execution_count": 22
        }
      ]
    },
    {
      "cell_type": "markdown",
      "metadata": {
        "id": "mR52IR2xmTrg"
      },
      "source": [
        "Estátisticas Descritivas univariadas"
      ]
    },
    {
      "cell_type": "code",
      "metadata": {
        "colab": {
          "base_uri": "https://localhost:8080/",
          "height": 80
        },
        "id": "-CVjS2jijziu",
        "outputId": "ac661b79-58d2-4d63-c318-a981f234092c"
      },
      "source": [
        "dados1.describe().transpose()"
      ],
      "execution_count": 24,
      "outputs": [
        {
          "output_type": "execute_result",
          "data": {
            "text/html": [
              "<div>\n",
              "<style scoped>\n",
              "    .dataframe tbody tr th:only-of-type {\n",
              "        vertical-align: middle;\n",
              "    }\n",
              "\n",
              "    .dataframe tbody tr th {\n",
              "        vertical-align: top;\n",
              "    }\n",
              "\n",
              "    .dataframe thead th {\n",
              "        text-align: right;\n",
              "    }\n",
              "</style>\n",
              "<table border=\"1\" class=\"dataframe\">\n",
              "  <thead>\n",
              "    <tr style=\"text-align: right;\">\n",
              "      <th></th>\n",
              "      <th>count</th>\n",
              "      <th>mean</th>\n",
              "      <th>std</th>\n",
              "      <th>min</th>\n",
              "      <th>25%</th>\n",
              "      <th>50%</th>\n",
              "      <th>75%</th>\n",
              "      <th>max</th>\n",
              "    </tr>\n",
              "  </thead>\n",
              "  <tbody>\n",
              "    <tr>\n",
              "      <th>valores</th>\n",
              "      <td>41.0</td>\n",
              "      <td>0.18367</td>\n",
              "      <td>0.964847</td>\n",
              "      <td>-1.977728</td>\n",
              "      <td>-0.337632</td>\n",
              "      <td>0.195013</td>\n",
              "      <td>0.715279</td>\n",
              "      <td>2.384967</td>\n",
              "    </tr>\n",
              "  </tbody>\n",
              "</table>\n",
              "</div>"
            ],
            "text/plain": [
              "         count     mean       std  ...       50%       75%       max\n",
              "valores   41.0  0.18367  0.964847  ...  0.195013  0.715279  2.384967\n",
              "\n",
              "[1 rows x 8 columns]"
            ]
          },
          "metadata": {},
          "execution_count": 24
        }
      ]
    },
    {
      "cell_type": "markdown",
      "metadata": {
        "id": "v2DXDiQNkPxV"
      },
      "source": [
        "Criar os Intervalos de Data\n",
        "\n",
        "* Ano Inicial: 1980\n",
        "* Quantidade de Períodos: Total de observações\n",
        "* Frequência: anual\n",
        "\n",
        "Obs: O mês e o dia são apenas de referência (intervalos para representar anos)."
      ]
    },
    {
      "cell_type": "code",
      "metadata": {
        "colab": {
          "base_uri": "https://localhost:8080/"
        },
        "id": "HogGshMRj5pj",
        "outputId": "892e5755-09af-4c05-e9e8-2935fa0b8c5a"
      },
      "source": [
        "indice = pd.date_range('1980', periods=len(dados1), freq='Y')\n",
        "indice"
      ],
      "execution_count": 25,
      "outputs": [
        {
          "output_type": "execute_result",
          "data": {
            "text/plain": [
              "DatetimeIndex(['1980-12-31', '1981-12-31', '1982-12-31', '1983-12-31',\n",
              "               '1984-12-31', '1985-12-31', '1986-12-31', '1987-12-31',\n",
              "               '1988-12-31', '1989-12-31', '1990-12-31', '1991-12-31',\n",
              "               '1992-12-31', '1993-12-31', '1994-12-31', '1995-12-31',\n",
              "               '1996-12-31', '1997-12-31', '1998-12-31', '1999-12-31',\n",
              "               '2000-12-31', '2001-12-31', '2002-12-31', '2003-12-31',\n",
              "               '2004-12-31', '2005-12-31', '2006-12-31', '2007-12-31',\n",
              "               '2008-12-31', '2009-12-31', '2010-12-31', '2011-12-31',\n",
              "               '2012-12-31', '2013-12-31', '2014-12-31', '2015-12-31',\n",
              "               '2016-12-31', '2017-12-31', '2018-12-31', '2019-12-31',\n",
              "               '2020-12-31'],\n",
              "              dtype='datetime64[ns]', freq='A-DEC')"
            ]
          },
          "metadata": {},
          "execution_count": 25
        }
      ]
    },
    {
      "cell_type": "code",
      "metadata": {
        "id": "8Env906TkjvP"
      },
      "source": [
        "serie1 = pd.Series(dados1['valores'].values, index=indice)"
      ],
      "execution_count": 26,
      "outputs": []
    },
    {
      "cell_type": "code",
      "metadata": {
        "colab": {
          "base_uri": "https://localhost:8080/"
        },
        "id": "48u5zJS-kvBl",
        "outputId": "21503a0c-2530-4328-817f-16ffdcae6058"
      },
      "source": [
        "type(serie1)"
      ],
      "execution_count": 27,
      "outputs": [
        {
          "output_type": "execute_result",
          "data": {
            "text/plain": [
              "pandas.core.series.Series"
            ]
          },
          "metadata": {},
          "execution_count": 27
        }
      ]
    },
    {
      "cell_type": "markdown",
      "metadata": {
        "id": "h5GHVf32mNFe"
      },
      "source": [
        "Montagem da Visualização Gráfica Final"
      ]
    },
    {
      "cell_type": "code",
      "metadata": {
        "colab": {
          "base_uri": "https://localhost:8080/",
          "height": 295
        },
        "id": "dRVo_LlIkwTV",
        "outputId": "94edb1d2-b68a-4262-9088-72626637ea59"
      },
      "source": [
        "serie1.plot()\n",
        "plt.xlabel('Anos')\n",
        "plt.ylabel('Valores')\n",
        "plt.title('Variação aleatória entre 1980 e 2020')\n",
        "plt.show()"
      ],
      "execution_count": 30,
      "outputs": [
        {
          "output_type": "display_data",
          "data": {
            "image/png": "[encoded data removed]",
            "text/plain": [
              "<Figure size 432x288 with 1 Axes>"
            ]
          },
          "metadata": {
            "needs_background": "light"
          }
        }
      ]
    },
    {
      "cell_type": "markdown",
      "metadata": {
        "id": "QnqmytZjlchw"
      },
      "source": [
        "QQ Plot (Verificação dos valores à normalidade)"
      ]
    },
    {
      "cell_type": "code",
      "metadata": {
        "colab": {
          "base_uri": "https://localhost:8080/",
          "height": 295
        },
        "id": "9Wbjdl5qky3D",
        "outputId": "4f4e2c53-2494-46d0-e5a2-7414b1ab45ab"
      },
      "source": [
        "stats.probplot(serie1, dist='norm',plot=plt)\n",
        "plt.title('Normal QQ Plot')\n",
        "plt.show()"
      ],
      "execution_count": 31,
      "outputs": [
        {
          "output_type": "display_data",
          "data": {
            "image/png": "[encoded data removed]",
            "text/plain": [
              "<Figure size 432x288 with 1 Axes>"
            ]
          },
          "metadata": {
            "needs_background": "light"
          }
        }
      ]
    },
    {
      "cell_type": "markdown",
      "metadata": {
        "id": "-O1cqEUclVCP"
      },
      "source": [
        "**Teste Shapiro-Wilk**\n",
        "\n",
        "Critérios\n",
        "\n",
        "Nível de Significância adotado: de 0,05 ou 5%\n",
        "\n",
        "Quando p-value > 0,05 (Distribuição Normal)"
      ]
    },
    {
      "cell_type": "code",
      "metadata": {
        "colab": {
          "base_uri": "https://localhost:8080/"
        },
        "id": "3N7aIImtl08t",
        "outputId": "3c9b5c18-a711-4875-f4d4-fd327fced497"
      },
      "source": [
        "e, p = stats.shapiro(serie1)\n",
        "\n",
        "print(f'Estátistica de Teste: {e}')\n",
        "print(f'p-value: {p}')"
      ],
      "execution_count": 32,
      "outputs": [
        {
          "output_type": "stream",
          "name": "stdout",
          "text": [
            "Estátistica de Teste: 0.9869343638420105\n",
            "p-value: 0.9118922352790833\n"
          ]
        }
      ]
    },
    {
      "cell_type": "markdown",
      "metadata": {
        "id": "er30xkS3mucO"
      },
      "source": [
        "##Série Mensal"
      ]
    },
    {
      "cell_type": "code",
      "metadata": {
        "id": "MmjTm_8EmvvG"
      },
      "source": [
        ""
      ],
      "execution_count": null,
      "outputs": []
    },
    {
      "cell_type": "markdown",
      "metadata": {
        "id": "K-15O-_cm2I6"
      },
      "source": [
        "##Série Diária"
      ]
    },
    {
      "cell_type": "code",
      "metadata": {
        "id": "TXBUi82Gm3ln"
      },
      "source": [
        ""
      ],
      "execution_count": null,
      "outputs": []
    },
    {
      "cell_type": "markdown",
      "metadata": {
        "id": "pi04gIewm3vd"
      },
      "source": [
        "##Série Trimestral"
      ]
    },
    {
      "cell_type": "code",
      "metadata": {
        "id": "0XQEHlDTm5Vw"
      },
      "source": [
        ""
      ],
      "execution_count": null,
      "outputs": []
    }
  ]
}