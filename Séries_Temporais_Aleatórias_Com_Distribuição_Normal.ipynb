{
  "nbformat": 4,
  "nbformat_minor": 0,
  "metadata": {
    "colab": {
      "name": "Séries Temporais Aleatórias Com Distribuição Normal.ipynb",
      "provenance": [],
      "collapsed_sections": [
        "SVvHJmXyhlUO",
        "RpTIpvWYh6oc",
        "er30xkS3mucO",
        "K-15O-_cm2I6",
        "pi04gIewm3vd"
      ]
    },
    "kernelspec": {
      "name": "python3",
      "display_name": "Python 3"
    },
    "language_info": {
      "name": "python"
    }
  },
  "cells": [
    {
      "cell_type": "markdown",
      "metadata": {
        "id": "uoxqW6rjiBwJ"
      },
      "source": [
        "#Séries Temporais Aleatórias Com Distribuição Normal"
      ]
    },
    {
      "cell_type": "markdown",
      "metadata": {
        "id": "SVvHJmXyhlUO"
      },
      "source": [
        "## Importar Libs e Configurações Iniciais"
      ]
    },
    {
      "cell_type": "code",
      "metadata": {
        "id": "fms9t2GKhUlf"
      },
      "source": [
        "import datetime\n",
        "import pandas as pd\n",
        "import numpy as np \n",
        "import matplotlib.pyplot as plt\n",
        "import scipy.stats as stats\n",
        "\n",
        "from matplotlib.pylab import rcParams"
      ],
      "execution_count": 8,
      "outputs": []
    },
    {
      "cell_type": "markdown",
      "metadata": {
        "id": "-GT40GYihwub"
      },
      "source": [
        "Aumentar o tamanho padrão da representação do matplotlib (maior horizontalmente, ideal para séries temporais)."
      ]
    },
    {
      "cell_type": "code",
      "metadata": {
        "id": "mccK5zQ9hfyC"
      },
      "source": [
        "rcParams['figure.figsize'] = 15, 6"
      ],
      "execution_count": 2,
      "outputs": []
    },
    {
      "cell_type": "markdown",
      "metadata": {
        "id": "RpTIpvWYh6oc"
      },
      "source": [
        "## Série Anual"
      ]
    },
    {
      "cell_type": "markdown",
      "metadata": {
        "id": "Gu9n3XQBiA0S"
      },
      "source": [
        "Criação de Série com Valores Aleatórios entre 1980 e 2020 (Anos)\n",
        "\n",
        "* Média aprox.: 0\n",
        "* Desvio Padrão aprox.: 1\n",
        "* Quantidade de valores: 41"
      ]
    },
    {
      "cell_type": "code",
      "metadata": {
        "colab": {
          "base_uri": "https://localhost:8080/"
        },
        "id": "-4a5CB4AiVo2",
        "outputId": "5a601663-4fbb-4bfb-9393-ea6ef937eb55"
      },
      "source": [
        "np.random.seed(10)\n",
        "dados1 = np.random.normal(0, 1, 41)\n",
        "dados1"
      ],
      "execution_count": 31,
      "outputs": [
        {
          "output_type": "execute_result",
          "data": {
            "text/plain": [
              "array([ 1.3315865 ,  0.71527897, -1.54540029, -0.00838385,  0.62133597,\n",
              "       -0.72008556,  0.26551159,  0.10854853,  0.00429143, -0.17460021,\n",
              "        0.43302619,  1.20303737, -0.96506567,  1.02827408,  0.22863013,\n",
              "        0.44513761, -1.13660221,  0.13513688,  1.484537  , -1.07980489,\n",
              "       -1.97772828, -1.7433723 ,  0.26607016,  2.38496733,  1.12369125,\n",
              "        1.67262221,  0.09914922,  1.39799638, -0.27124799,  0.61320418,\n",
              "       -0.26731719, -0.54930901,  0.1327083 , -0.47614201,  1.30847308,\n",
              "        0.19501328,  0.40020999, -0.33763234,  1.25647226, -0.7319695 ,\n",
              "        0.66023155])"
            ]
          },
          "metadata": {},
          "execution_count": 31
        }
      ]
    },
    {
      "cell_type": "code",
      "metadata": {
        "colab": {
          "base_uri": "https://localhost:8080/"
        },
        "id": "JcEZ9fUXjASY",
        "outputId": "8c4764d3-7901-4b9d-adfc-2f1284b3d661"
      },
      "source": [
        "type(dados1)"
      ],
      "execution_count": 32,
      "outputs": [
        {
          "output_type": "execute_result",
          "data": {
            "text/plain": [
              "numpy.ndarray"
            ]
          },
          "metadata": {},
          "execution_count": 32
        }
      ]
    },
    {
      "cell_type": "markdown",
      "metadata": {
        "id": "drpc9JT4moUz"
      },
      "source": [
        "Transformação do Array em Series"
      ]
    },
    {
      "cell_type": "code",
      "metadata": {
        "id": "YTpWx20IjGzh"
      },
      "source": [
        "serie = pd.Series(dados1)"
      ],
      "execution_count": 33,
      "outputs": []
    },
    {
      "cell_type": "code",
      "metadata": {
        "colab": {
          "base_uri": "https://localhost:8080/"
        },
        "id": "wr8EwE9vjMNR",
        "outputId": "7b2ca447-2474-410c-a30b-c4024902cefa"
      },
      "source": [
        "type(serie) "
      ],
      "execution_count": 34,
      "outputs": [
        {
          "output_type": "execute_result",
          "data": {
            "text/plain": [
              "pandas.core.series.Series"
            ]
          },
          "metadata": {},
          "execution_count": 34
        }
      ]
    },
    {
      "cell_type": "markdown",
      "metadata": {
        "id": "K06ueAFdmYz7"
      },
      "source": [
        "Plotagem simples da série sem os anos inclusos"
      ]
    },
    {
      "cell_type": "code",
      "metadata": {
        "colab": {
          "base_uri": "https://localhost:8080/",
          "height": 0
        },
        "id": "ApIAq9NRjQhs",
        "outputId": "d1582cdf-6421-4366-db4d-3994ea976a06"
      },
      "source": [
        "serie.plot()\n",
        "plt.show()"
      ],
      "execution_count": 35,
      "outputs": [
        {
          "output_type": "display_data",
          "data": {
            "image/png": "[encoded data removed]",
            "text/plain": [
              "<Figure size 1080x432 with 1 Axes>"
            ]
          },
          "metadata": {
            "needs_background": "light"
          }
        }
      ]
    },
    {
      "cell_type": "markdown",
      "metadata": {
        "id": "Hc1qg4KzmdJF"
      },
      "source": [
        "Criação de DataFrame para facilitar manipulação"
      ]
    },
    {
      "cell_type": "code",
      "metadata": {
        "colab": {
          "base_uri": "https://localhost:8080/",
          "height": 0
        },
        "id": "rUw6KChGjVLR",
        "outputId": "ddbb846a-4b53-4d15-f445-55420332ed48"
      },
      "source": [
        "dados1 = pd.DataFrame(dados1,columns=['valores'])\n",
        "dados1"
      ],
      "execution_count": 36,
      "outputs": [
        {
          "output_type": "execute_result",
          "data": {
            "text/html": [
              "<div>\n",
              "<style scoped>\n",
              "    .dataframe tbody tr th:only-of-type {\n",
              "        vertical-align: middle;\n",
              "    }\n",
              "\n",
              "    .dataframe tbody tr th {\n",
              "        vertical-align: top;\n",
              "    }\n",
              "\n",
              "    .dataframe thead th {\n",
              "        text-align: right;\n",
              "    }\n",
              "</style>\n",
              "<table border=\"1\" class=\"dataframe\">\n",
              "  <thead>\n",
              "    <tr style=\"text-align: right;\">\n",
              "      <th></th>\n",
              "      <th>valores</th>\n",
              "    </tr>\n",
              "  </thead>\n",
              "  <tbody>\n",
              "    <tr>\n",
              "      <th>0</th>\n",
              "      <td>1.331587</td>\n",
              "    </tr>\n",
              "    <tr>\n",
              "      <th>1</th>\n",
              "      <td>0.715279</td>\n",
              "    </tr>\n",
              "    <tr>\n",
              "      <th>2</th>\n",
              "      <td>-1.545400</td>\n",
              "    </tr>\n",
              "    <tr>\n",
              "      <th>3</th>\n",
              "      <td>-0.008384</td>\n",
              "    </tr>\n",
              "    <tr>\n",
              "      <th>4</th>\n",
              "      <td>0.621336</td>\n",
              "    </tr>\n",
              "    <tr>\n",
              "      <th>5</th>\n",
              "      <td>-0.720086</td>\n",
              "    </tr>\n",
              "    <tr>\n",
              "      <th>6</th>\n",
              "      <td>0.265512</td>\n",
              "    </tr>\n",
              "    <tr>\n",
              "      <th>7</th>\n",
              "      <td>0.108549</td>\n",
              "    </tr>\n",
              "    <tr>\n",
              "      <th>8</th>\n",
              "      <td>0.004291</td>\n",
              "    </tr>\n",
              "    <tr>\n",
              "      <th>9</th>\n",
              "      <td>-0.174600</td>\n",
              "    </tr>\n",
              "    <tr>\n",
              "      <th>10</th>\n",
              "      <td>0.433026</td>\n",
              "    </tr>\n",
              "    <tr>\n",
              "      <th>11</th>\n",
              "      <td>1.203037</td>\n",
              "    </tr>\n",
              "    <tr>\n",
              "      <th>12</th>\n",
              "      <td>-0.965066</td>\n",
              "    </tr>\n",
              "    <tr>\n",
              "      <th>13</th>\n",
              "      <td>1.028274</td>\n",
              "    </tr>\n",
              "    <tr>\n",
              "      <th>14</th>\n",
              "      <td>0.228630</td>\n",
              "    </tr>\n",
              "    <tr>\n",
              "      <th>15</th>\n",
              "      <td>0.445138</td>\n",
              "    </tr>\n",
              "    <tr>\n",
              "      <th>16</th>\n",
              "      <td>-1.136602</td>\n",
              "    </tr>\n",
              "    <tr>\n",
              "      <th>17</th>\n",
              "      <td>0.135137</td>\n",
              "    </tr>\n",
              "    <tr>\n",
              "      <th>18</th>\n",
              "      <td>1.484537</td>\n",
              "    </tr>\n",
              "    <tr>\n",
              "      <th>19</th>\n",
              "      <td>-1.079805</td>\n",
              "    </tr>\n",
              "    <tr>\n",
              "      <th>20</th>\n",
              "      <td>-1.977728</td>\n",
              "    </tr>\n",
              "    <tr>\n",
              "      <th>21</th>\n",
              "      <td>-1.743372</td>\n",
              "    </tr>\n",
              "    <tr>\n",
              "      <th>22</th>\n",
              "      <td>0.266070</td>\n",
              "    </tr>\n",
              "    <tr>\n",
              "      <th>23</th>\n",
              "      <td>2.384967</td>\n",
              "    </tr>\n",
              "    <tr>\n",
              "      <th>24</th>\n",
              "      <td>1.123691</td>\n",
              "    </tr>\n",
              "    <tr>\n",
              "      <th>25</th>\n",
              "      <td>1.672622</td>\n",
              "    </tr>\n",
              "    <tr>\n",
              "      <th>26</th>\n",
              "      <td>0.099149</td>\n",
              "    </tr>\n",
              "    <tr>\n",
              "      <th>27</th>\n",
              "      <td>1.397996</td>\n",
              "    </tr>\n",
              "    <tr>\n",
              "      <th>28</th>\n",
              "      <td>-0.271248</td>\n",
              "    </tr>\n",
              "    <tr>\n",
              "      <th>29</th>\n",
              "      <td>0.613204</td>\n",
              "    </tr>\n",
              "    <tr>\n",
              "      <th>30</th>\n",
              "      <td>-0.267317</td>\n",
              "    </tr>\n",
              "    <tr>\n",
              "      <th>31</th>\n",
              "      <td>-0.549309</td>\n",
              "    </tr>\n",
              "    <tr>\n",
              "      <th>32</th>\n",
              "      <td>0.132708</td>\n",
              "    </tr>\n",
              "    <tr>\n",
              "      <th>33</th>\n",
              "      <td>-0.476142</td>\n",
              "    </tr>\n",
              "    <tr>\n",
              "      <th>34</th>\n",
              "      <td>1.308473</td>\n",
              "    </tr>\n",
              "    <tr>\n",
              "      <th>35</th>\n",
              "      <td>0.195013</td>\n",
              "    </tr>\n",
              "    <tr>\n",
              "      <th>36</th>\n",
              "      <td>0.400210</td>\n",
              "    </tr>\n",
              "    <tr>\n",
              "      <th>37</th>\n",
              "      <td>-0.337632</td>\n",
              "    </tr>\n",
              "    <tr>\n",
              "      <th>38</th>\n",
              "      <td>1.256472</td>\n",
              "    </tr>\n",
              "    <tr>\n",
              "      <th>39</th>\n",
              "      <td>-0.731970</td>\n",
              "    </tr>\n",
              "    <tr>\n",
              "      <th>40</th>\n",
              "      <td>0.660232</td>\n",
              "    </tr>\n",
              "  </tbody>\n",
              "</table>\n",
              "</div>"
            ],
            "text/plain": [
              "     valores\n",
              "0   1.331587\n",
              "1   0.715279\n",
              "2  -1.545400\n",
              "3  -0.008384\n",
              "4   0.621336\n",
              "5  -0.720086\n",
              "6   0.265512\n",
              "7   0.108549\n",
              "8   0.004291\n",
              "9  -0.174600\n",
              "10  0.433026\n",
              "11  1.203037\n",
              "12 -0.965066\n",
              "13  1.028274\n",
              "14  0.228630\n",
              "15  0.445138\n",
              "16 -1.136602\n",
              "17  0.135137\n",
              "18  1.484537\n",
              "19 -1.079805\n",
              "20 -1.977728\n",
              "21 -1.743372\n",
              "22  0.266070\n",
              "23  2.384967\n",
              "24  1.123691\n",
              "25  1.672622\n",
              "26  0.099149\n",
              "27  1.397996\n",
              "28 -0.271248\n",
              "29  0.613204\n",
              "30 -0.267317\n",
              "31 -0.549309\n",
              "32  0.132708\n",
              "33 -0.476142\n",
              "34  1.308473\n",
              "35  0.195013\n",
              "36  0.400210\n",
              "37 -0.337632\n",
              "38  1.256472\n",
              "39 -0.731970\n",
              "40  0.660232"
            ]
          },
          "metadata": {},
          "execution_count": 36
        }
      ]
    },
    {
      "cell_type": "code",
      "metadata": {
        "colab": {
          "base_uri": "https://localhost:8080/"
        },
        "id": "A7kyuuNXjdPC",
        "outputId": "9a27b226-c618-4b5c-9efe-d558fe8e0f3f"
      },
      "source": [
        "dados1.shape"
      ],
      "execution_count": 37,
      "outputs": [
        {
          "output_type": "execute_result",
          "data": {
            "text/plain": [
              "(41, 1)"
            ]
          },
          "metadata": {},
          "execution_count": 37
        }
      ]
    },
    {
      "cell_type": "markdown",
      "metadata": {
        "id": "mR52IR2xmTrg"
      },
      "source": [
        "Estátisticas Descritivas univariadas"
      ]
    },
    {
      "cell_type": "code",
      "metadata": {
        "colab": {
          "base_uri": "https://localhost:8080/",
          "height": 0
        },
        "id": "-CVjS2jijziu",
        "outputId": "7832038a-3e1c-4f1a-d470-24575b2d2182"
      },
      "source": [
        "dados1.describe().transpose()"
      ],
      "execution_count": 38,
      "outputs": [
        {
          "output_type": "execute_result",
          "data": {
            "text/html": [
              "<div>\n",
              "<style scoped>\n",
              "    .dataframe tbody tr th:only-of-type {\n",
              "        vertical-align: middle;\n",
              "    }\n",
              "\n",
              "    .dataframe tbody tr th {\n",
              "        vertical-align: top;\n",
              "    }\n",
              "\n",
              "    .dataframe thead th {\n",
              "        text-align: right;\n",
              "    }\n",
              "</style>\n",
              "<table border=\"1\" class=\"dataframe\">\n",
              "  <thead>\n",
              "    <tr style=\"text-align: right;\">\n",
              "      <th></th>\n",
              "      <th>count</th>\n",
              "      <th>mean</th>\n",
              "      <th>std</th>\n",
              "      <th>min</th>\n",
              "      <th>25%</th>\n",
              "      <th>50%</th>\n",
              "      <th>75%</th>\n",
              "      <th>max</th>\n",
              "    </tr>\n",
              "  </thead>\n",
              "  <tbody>\n",
              "    <tr>\n",
              "      <th>valores</th>\n",
              "      <td>41.0</td>\n",
              "      <td>0.18367</td>\n",
              "      <td>0.964847</td>\n",
              "      <td>-1.977728</td>\n",
              "      <td>-0.337632</td>\n",
              "      <td>0.195013</td>\n",
              "      <td>0.715279</td>\n",
              "      <td>2.384967</td>\n",
              "    </tr>\n",
              "  </tbody>\n",
              "</table>\n",
              "</div>"
            ],
            "text/plain": [
              "         count     mean       std  ...       50%       75%       max\n",
              "valores   41.0  0.18367  0.964847  ...  0.195013  0.715279  2.384967\n",
              "\n",
              "[1 rows x 8 columns]"
            ]
          },
          "metadata": {},
          "execution_count": 38
        }
      ]
    },
    {
      "cell_type": "markdown",
      "metadata": {
        "id": "v2DXDiQNkPxV"
      },
      "source": [
        "Criar os Intervalos de Data\n",
        "\n",
        "* Ano Inicial: 1980\n",
        "* Quantidade de Períodos: Total de observações\n",
        "* Frequência: anual\n",
        "\n",
        "Obs: O mês e o dia são apenas de referência (intervalos para representar anos)."
      ]
    },
    {
      "cell_type": "code",
      "metadata": {
        "colab": {
          "base_uri": "https://localhost:8080/"
        },
        "id": "HogGshMRj5pj",
        "outputId": "53ddaf6b-98f3-43bf-c358-100acedb802a"
      },
      "source": [
        "indice = pd.date_range('1980', periods=len(dados1), freq='Y')\n",
        "indice"
      ],
      "execution_count": 39,
      "outputs": [
        {
          "output_type": "execute_result",
          "data": {
            "text/plain": [
              "DatetimeIndex(['1980-12-31', '1981-12-31', '1982-12-31', '1983-12-31',\n",
              "               '1984-12-31', '1985-12-31', '1986-12-31', '1987-12-31',\n",
              "               '1988-12-31', '1989-12-31', '1990-12-31', '1991-12-31',\n",
              "               '1992-12-31', '1993-12-31', '1994-12-31', '1995-12-31',\n",
              "               '1996-12-31', '1997-12-31', '1998-12-31', '1999-12-31',\n",
              "               '2000-12-31', '2001-12-31', '2002-12-31', '2003-12-31',\n",
              "               '2004-12-31', '2005-12-31', '2006-12-31', '2007-12-31',\n",
              "               '2008-12-31', '2009-12-31', '2010-12-31', '2011-12-31',\n",
              "               '2012-12-31', '2013-12-31', '2014-12-31', '2015-12-31',\n",
              "               '2016-12-31', '2017-12-31', '2018-12-31', '2019-12-31',\n",
              "               '2020-12-31'],\n",
              "              dtype='datetime64[ns]', freq='A-DEC')"
            ]
          },
          "metadata": {},
          "execution_count": 39
        }
      ]
    },
    {
      "cell_type": "code",
      "metadata": {
        "id": "8Env906TkjvP"
      },
      "source": [
        "serie1 = pd.Series(dados1['valores'].values, index=indice)"
      ],
      "execution_count": 40,
      "outputs": []
    },
    {
      "cell_type": "code",
      "metadata": {
        "colab": {
          "base_uri": "https://localhost:8080/"
        },
        "id": "48u5zJS-kvBl",
        "outputId": "ebf845db-5387-4cbe-8bb9-e14c35560ad1"
      },
      "source": [
        "type(serie1)"
      ],
      "execution_count": 41,
      "outputs": [
        {
          "output_type": "execute_result",
          "data": {
            "text/plain": [
              "pandas.core.series.Series"
            ]
          },
          "metadata": {},
          "execution_count": 41
        }
      ]
    },
    {
      "cell_type": "markdown",
      "metadata": {
        "id": "h5GHVf32mNFe"
      },
      "source": [
        "Montagem da Visualização Gráfica Final"
      ]
    },
    {
      "cell_type": "code",
      "metadata": {
        "colab": {
          "base_uri": "https://localhost:8080/",
          "height": 0
        },
        "id": "dRVo_LlIkwTV",
        "outputId": "a9270caf-1bd3-4fed-9da6-7e3c23ffa578"
      },
      "source": [
        "serie1.plot()\n",
        "plt.xlabel('Anos')\n",
        "plt.ylabel('Valores')\n",
        "plt.title('Variação aleatória entre os anos de 1980 e 2020')\n",
        "plt.show()"
      ],
      "execution_count": 42,
      "outputs": [
        {
          "output_type": "display_data",
          "data": {
            "image/png": "[encoded data removed]",
            "text/plain": [
              "<Figure size 1080x432 with 1 Axes>"
            ]
          },
          "metadata": {
            "needs_background": "light"
          }
        }
      ]
    },
    {
      "cell_type": "markdown",
      "metadata": {
        "id": "QnqmytZjlchw"
      },
      "source": [
        "QQ Plot (Verificação dos valores à normalidade)"
      ]
    },
    {
      "cell_type": "code",
      "metadata": {
        "colab": {
          "base_uri": "https://localhost:8080/",
          "height": 0
        },
        "id": "9Wbjdl5qky3D",
        "outputId": "46a3dc6d-30e0-4277-b65b-9a2bd97fc19e"
      },
      "source": [
        "stats.probplot(serie1, dist='norm',plot=plt)\n",
        "plt.title('Normal QQ Plot')\n",
        "plt.show()"
      ],
      "execution_count": 43,
      "outputs": [
        {
          "output_type": "display_data",
          "data": {
            "image/png": "[encoded data removed]",
            "text/plain": [
              "<Figure size 1080x432 with 1 Axes>"
            ]
          },
          "metadata": {
            "needs_background": "light"
          }
        }
      ]
    },
    {
      "cell_type": "markdown",
      "metadata": {
        "id": "-O1cqEUclVCP"
      },
      "source": [
        "**Teste Shapiro-Wilk**\n",
        "\n",
        "Critérios\n",
        "\n",
        "Nível de Significância adotado: de 0,05 ou 5%\n",
        "\n",
        "Quando p-value > 0,05 (Distribuição Normal)"
      ]
    },
    {
      "cell_type": "code",
      "metadata": {
        "colab": {
          "base_uri": "https://localhost:8080/"
        },
        "id": "3N7aIImtl08t",
        "outputId": "958b4327-21bb-4390-f8fa-c60af0a90212"
      },
      "source": [
        "e, p = stats.shapiro(serie1)\n",
        "\n",
        "print(f'Estátistica de Teste: {e}')\n",
        "print(f'p-value: {p}')"
      ],
      "execution_count": 44,
      "outputs": [
        {
          "output_type": "stream",
          "name": "stdout",
          "text": [
            "Estátistica de Teste: 0.9869343638420105\n",
            "p-value: 0.9118922352790833\n"
          ]
        }
      ]
    },
    {
      "cell_type": "markdown",
      "metadata": {
        "id": "er30xkS3mucO"
      },
      "source": [
        "##Série Mensal"
      ]
    },
    {
      "cell_type": "markdown",
      "metadata": {
        "id": "ynbCWdRYg2zc"
      },
      "source": [
        "Criação de Série com Valores Aleatórios entre 2015 e 2020 (Meses)\n",
        "\n",
        "* Média aprox.: 0\n",
        "* Desvio Padrão aprox.: 1\n",
        "* Quantidade de valores: 72"
      ]
    },
    {
      "cell_type": "code",
      "metadata": {
        "colab": {
          "base_uri": "https://localhost:8080/"
        },
        "id": "MmjTm_8EmvvG",
        "outputId": "5a058dbc-1817-4848-f5ef-3fdd0c3b08ab"
      },
      "source": [
        "np.random.seed(6)\n",
        "dados2 = np.random.normal(0, 1, 72)\n",
        "dados2"
      ],
      "execution_count": 45,
      "outputs": [
        {
          "output_type": "execute_result",
          "data": {
            "text/plain": [
              "array([-0.31178367,  0.72900392,  0.21782079, -0.8990918 , -2.48678065,\n",
              "        0.91325152,  1.12706373, -1.51409323,  1.63929108, -0.4298936 ,\n",
              "        2.63128056,  0.60182225, -0.33588161,  1.23773784,  0.11112817,\n",
              "        0.12915125,  0.07612761, -0.15512816,  0.63422534,  0.810655  ,\n",
              "        0.35480861,  1.81259031, -1.3564758 , -0.46363197,  0.82465384,\n",
              "       -1.17643148,  1.56448966,  0.71270509, -0.1810066 ,  0.53419953,\n",
              "       -0.58661296, -1.48185327,  0.85724762,  0.94309899,  0.11444143,\n",
              "       -0.02195668, -2.12714455, -0.83440747, -0.46550831,  0.23371059,\n",
              "        1.38503523, -0.51962709, -0.78015214,  0.95560959, -0.12673638,\n",
              "       -1.36861282,  1.21848065, -0.85750144, -0.56147088, -1.0335199 ,\n",
              "        0.35877096,  1.07368134, -0.37550472,  0.39636757, -0.47144628,\n",
              "        2.33660781,  1.50278553, -0.59545972,  0.52834106,  0.9398248 ,\n",
              "        0.42628539, -0.75815703, -0.16236698,  0.72680996,  0.44408297,\n",
              "       -0.85682264,  0.44692842, -1.01464799, -2.1323234 ,  0.17386307,\n",
              "        0.95120126,  0.44189739])"
            ]
          },
          "metadata": {},
          "execution_count": 45
        }
      ]
    },
    {
      "cell_type": "code",
      "metadata": {
        "colab": {
          "base_uri": "https://localhost:8080/"
        },
        "id": "tMO8b3x3eL2d",
        "outputId": "158e3ecb-6cc5-4fb1-89de-066c468ca968"
      },
      "source": [
        "type(dados2)"
      ],
      "execution_count": 46,
      "outputs": [
        {
          "output_type": "execute_result",
          "data": {
            "text/plain": [
              "numpy.ndarray"
            ]
          },
          "metadata": {},
          "execution_count": 46
        }
      ]
    },
    {
      "cell_type": "code",
      "metadata": {
        "colab": {
          "base_uri": "https://localhost:8080/",
          "height": 417
        },
        "id": "s4M5-GineSav",
        "outputId": "6e264bd2-fe5a-4f1b-b93c-628b4db6fc18"
      },
      "source": [
        "dados2 = pd.DataFrame(dados2, columns=['valores'])\n",
        "dados2"
      ],
      "execution_count": 47,
      "outputs": [
        {
          "output_type": "execute_result",
          "data": {
            "text/html": [
              "<div>\n",
              "<style scoped>\n",
              "    .dataframe tbody tr th:only-of-type {\n",
              "        vertical-align: middle;\n",
              "    }\n",
              "\n",
              "    .dataframe tbody tr th {\n",
              "        vertical-align: top;\n",
              "    }\n",
              "\n",
              "    .dataframe thead th {\n",
              "        text-align: right;\n",
              "    }\n",
              "</style>\n",
              "<table border=\"1\" class=\"dataframe\">\n",
              "  <thead>\n",
              "    <tr style=\"text-align: right;\">\n",
              "      <th></th>\n",
              "      <th>valores</th>\n",
              "    </tr>\n",
              "  </thead>\n",
              "  <tbody>\n",
              "    <tr>\n",
              "      <th>0</th>\n",
              "      <td>-0.311784</td>\n",
              "    </tr>\n",
              "    <tr>\n",
              "      <th>1</th>\n",
              "      <td>0.729004</td>\n",
              "    </tr>\n",
              "    <tr>\n",
              "      <th>2</th>\n",
              "      <td>0.217821</td>\n",
              "    </tr>\n",
              "    <tr>\n",
              "      <th>3</th>\n",
              "      <td>-0.899092</td>\n",
              "    </tr>\n",
              "    <tr>\n",
              "      <th>4</th>\n",
              "      <td>-2.486781</td>\n",
              "    </tr>\n",
              "    <tr>\n",
              "      <th>...</th>\n",
              "      <td>...</td>\n",
              "    </tr>\n",
              "    <tr>\n",
              "      <th>67</th>\n",
              "      <td>-1.014648</td>\n",
              "    </tr>\n",
              "    <tr>\n",
              "      <th>68</th>\n",
              "      <td>-2.132323</td>\n",
              "    </tr>\n",
              "    <tr>\n",
              "      <th>69</th>\n",
              "      <td>0.173863</td>\n",
              "    </tr>\n",
              "    <tr>\n",
              "      <th>70</th>\n",
              "      <td>0.951201</td>\n",
              "    </tr>\n",
              "    <tr>\n",
              "      <th>71</th>\n",
              "      <td>0.441897</td>\n",
              "    </tr>\n",
              "  </tbody>\n",
              "</table>\n",
              "<p>72 rows × 1 columns</p>\n",
              "</div>"
            ],
            "text/plain": [
              "     valores\n",
              "0  -0.311784\n",
              "1   0.729004\n",
              "2   0.217821\n",
              "3  -0.899092\n",
              "4  -2.486781\n",
              "..       ...\n",
              "67 -1.014648\n",
              "68 -2.132323\n",
              "69  0.173863\n",
              "70  0.951201\n",
              "71  0.441897\n",
              "\n",
              "[72 rows x 1 columns]"
            ]
          },
          "metadata": {},
          "execution_count": 47
        }
      ]
    },
    {
      "cell_type": "code",
      "metadata": {
        "colab": {
          "base_uri": "https://localhost:8080/",
          "height": 80
        },
        "id": "cLeztu4FeOhI",
        "outputId": "1c2bb08e-41d3-4bfa-c96e-52fbad52c25a"
      },
      "source": [
        "dados2.describe().transpose()"
      ],
      "execution_count": 48,
      "outputs": [
        {
          "output_type": "execute_result",
          "data": {
            "text/html": [
              "<div>\n",
              "<style scoped>\n",
              "    .dataframe tbody tr th:only-of-type {\n",
              "        vertical-align: middle;\n",
              "    }\n",
              "\n",
              "    .dataframe tbody tr th {\n",
              "        vertical-align: top;\n",
              "    }\n",
              "\n",
              "    .dataframe thead th {\n",
              "        text-align: right;\n",
              "    }\n",
              "</style>\n",
              "<table border=\"1\" class=\"dataframe\">\n",
              "  <thead>\n",
              "    <tr style=\"text-align: right;\">\n",
              "      <th></th>\n",
              "      <th>count</th>\n",
              "      <th>mean</th>\n",
              "      <th>std</th>\n",
              "      <th>min</th>\n",
              "      <th>25%</th>\n",
              "      <th>50%</th>\n",
              "      <th>75%</th>\n",
              "      <th>max</th>\n",
              "    </tr>\n",
              "  </thead>\n",
              "  <tbody>\n",
              "    <tr>\n",
              "      <th>valores</th>\n",
              "      <td>72.0</td>\n",
              "      <td>0.092709</td>\n",
              "      <td>1.022496</td>\n",
              "      <td>-2.486781</td>\n",
              "      <td>-0.567756</td>\n",
              "      <td>0.151507</td>\n",
              "      <td>0.814155</td>\n",
              "      <td>2.631281</td>\n",
              "    </tr>\n",
              "  </tbody>\n",
              "</table>\n",
              "</div>"
            ],
            "text/plain": [
              "         count      mean       std  ...       50%       75%       max\n",
              "valores   72.0  0.092709  1.022496  ...  0.151507  0.814155  2.631281\n",
              "\n",
              "[1 rows x 8 columns]"
            ]
          },
          "metadata": {},
          "execution_count": 48
        }
      ]
    },
    {
      "cell_type": "code",
      "metadata": {
        "colab": {
          "base_uri": "https://localhost:8080/"
        },
        "id": "z49McBwKecH3",
        "outputId": "c9b5f4e8-bec8-4048-dc32-01881633caad"
      },
      "source": [
        "dados2.shape"
      ],
      "execution_count": 49,
      "outputs": [
        {
          "output_type": "execute_result",
          "data": {
            "text/plain": [
              "(72, 1)"
            ]
          },
          "metadata": {},
          "execution_count": 49
        }
      ]
    },
    {
      "cell_type": "markdown",
      "metadata": {
        "id": "Y1SycWTRe62D"
      },
      "source": [
        "Definindo data inicial"
      ]
    },
    {
      "cell_type": "code",
      "metadata": {
        "colab": {
          "base_uri": "https://localhost:8080/"
        },
        "id": "lj6LYJyZeo6Z",
        "outputId": "6a151414-7bdc-413a-e9cd-0eec6cd5811c"
      },
      "source": [
        "data = np.array('2015-01', dtype=np.datetime64())\n",
        "data"
      ],
      "execution_count": 50,
      "outputs": [
        {
          "output_type": "execute_result",
          "data": {
            "text/plain": [
              "array('2015-01', dtype='datetime64[M]')"
            ]
          },
          "metadata": {},
          "execution_count": 50
        }
      ]
    },
    {
      "cell_type": "markdown",
      "metadata": {
        "id": "ZDrFX-2Qe8vw"
      },
      "source": [
        "Definindo + 72 períodos após esse inicial"
      ]
    },
    {
      "cell_type": "code",
      "metadata": {
        "colab": {
          "base_uri": "https://localhost:8080/"
        },
        "id": "EyHO665Xeyac",
        "outputId": "d878696d-59b9-46fa-8be0-d88e9a93e6b0"
      },
      "source": [
        "data = data + np.arange(72)\n",
        "data"
      ],
      "execution_count": 51,
      "outputs": [
        {
          "output_type": "execute_result",
          "data": {
            "text/plain": [
              "array(['2015-01', '2015-02', '2015-03', '2015-04', '2015-05', '2015-06',\n",
              "       '2015-07', '2015-08', '2015-09', '2015-10', '2015-11', '2015-12',\n",
              "       '2016-01', '2016-02', '2016-03', '2016-04', '2016-05', '2016-06',\n",
              "       '2016-07', '2016-08', '2016-09', '2016-10', '2016-11', '2016-12',\n",
              "       '2017-01', '2017-02', '2017-03', '2017-04', '2017-05', '2017-06',\n",
              "       '2017-07', '2017-08', '2017-09', '2017-10', '2017-11', '2017-12',\n",
              "       '2018-01', '2018-02', '2018-03', '2018-04', '2018-05', '2018-06',\n",
              "       '2018-07', '2018-08', '2018-09', '2018-10', '2018-11', '2018-12',\n",
              "       '2019-01', '2019-02', '2019-03', '2019-04', '2019-05', '2019-06',\n",
              "       '2019-07', '2019-08', '2019-09', '2019-10', '2019-11', '2019-12',\n",
              "       '2020-01', '2020-02', '2020-03', '2020-04', '2020-05', '2020-06',\n",
              "       '2020-07', '2020-08', '2020-09', '2020-10', '2020-11', '2020-12'],\n",
              "      dtype='datetime64[M]')"
            ]
          },
          "metadata": {},
          "execution_count": 51
        }
      ]
    },
    {
      "cell_type": "markdown",
      "metadata": {
        "id": "R0QQP-NfhGnG"
      },
      "source": [
        "Criando DataFrame"
      ]
    },
    {
      "cell_type": "code",
      "metadata": {
        "colab": {
          "base_uri": "https://localhost:8080/",
          "height": 203
        },
        "id": "ht3wZjiXfIar",
        "outputId": "8936e454-22fd-482f-c4f4-8163659fa788"
      },
      "source": [
        "data = pd.DataFrame(data,columns=['data'])\n",
        "data.head()"
      ],
      "execution_count": 52,
      "outputs": [
        {
          "output_type": "execute_result",
          "data": {
            "text/html": [
              "<div>\n",
              "<style scoped>\n",
              "    .dataframe tbody tr th:only-of-type {\n",
              "        vertical-align: middle;\n",
              "    }\n",
              "\n",
              "    .dataframe tbody tr th {\n",
              "        vertical-align: top;\n",
              "    }\n",
              "\n",
              "    .dataframe thead th {\n",
              "        text-align: right;\n",
              "    }\n",
              "</style>\n",
              "<table border=\"1\" class=\"dataframe\">\n",
              "  <thead>\n",
              "    <tr style=\"text-align: right;\">\n",
              "      <th></th>\n",
              "      <th>data</th>\n",
              "    </tr>\n",
              "  </thead>\n",
              "  <tbody>\n",
              "    <tr>\n",
              "      <th>0</th>\n",
              "      <td>2015-01-01</td>\n",
              "    </tr>\n",
              "    <tr>\n",
              "      <th>1</th>\n",
              "      <td>2015-02-01</td>\n",
              "    </tr>\n",
              "    <tr>\n",
              "      <th>2</th>\n",
              "      <td>2015-03-01</td>\n",
              "    </tr>\n",
              "    <tr>\n",
              "      <th>3</th>\n",
              "      <td>2015-04-01</td>\n",
              "    </tr>\n",
              "    <tr>\n",
              "      <th>4</th>\n",
              "      <td>2015-05-01</td>\n",
              "    </tr>\n",
              "  </tbody>\n",
              "</table>\n",
              "</div>"
            ],
            "text/plain": [
              "        data\n",
              "0 2015-01-01\n",
              "1 2015-02-01\n",
              "2 2015-03-01\n",
              "3 2015-04-01\n",
              "4 2015-05-01"
            ]
          },
          "metadata": {},
          "execution_count": 52
        }
      ]
    },
    {
      "cell_type": "code",
      "metadata": {
        "colab": {
          "base_uri": "https://localhost:8080/"
        },
        "id": "66fWBkzEfNBg",
        "outputId": "484d03cd-7680-468c-902d-47e3df39d20a"
      },
      "source": [
        "data.shape"
      ],
      "execution_count": 53,
      "outputs": [
        {
          "output_type": "execute_result",
          "data": {
            "text/plain": [
              "(72, 1)"
            ]
          },
          "metadata": {},
          "execution_count": 53
        }
      ]
    },
    {
      "cell_type": "markdown",
      "metadata": {
        "id": "QzijoG8phJFf"
      },
      "source": [
        "Concatenação dos dois DataFrames"
      ]
    },
    {
      "cell_type": "code",
      "metadata": {
        "colab": {
          "base_uri": "https://localhost:8080/",
          "height": 417
        },
        "id": "D7A0Wp9MfOmZ",
        "outputId": "46b00942-1723-452b-c384-60dddbabe9e6"
      },
      "source": [
        "serie2 = pd.concat([data, dados2],axis=1)\n",
        "serie2"
      ],
      "execution_count": 54,
      "outputs": [
        {
          "output_type": "execute_result",
          "data": {
            "text/html": [
              "<div>\n",
              "<style scoped>\n",
              "    .dataframe tbody tr th:only-of-type {\n",
              "        vertical-align: middle;\n",
              "    }\n",
              "\n",
              "    .dataframe tbody tr th {\n",
              "        vertical-align: top;\n",
              "    }\n",
              "\n",
              "    .dataframe thead th {\n",
              "        text-align: right;\n",
              "    }\n",
              "</style>\n",
              "<table border=\"1\" class=\"dataframe\">\n",
              "  <thead>\n",
              "    <tr style=\"text-align: right;\">\n",
              "      <th></th>\n",
              "      <th>data</th>\n",
              "      <th>valores</th>\n",
              "    </tr>\n",
              "  </thead>\n",
              "  <tbody>\n",
              "    <tr>\n",
              "      <th>0</th>\n",
              "      <td>2015-01-01</td>\n",
              "      <td>-0.311784</td>\n",
              "    </tr>\n",
              "    <tr>\n",
              "      <th>1</th>\n",
              "      <td>2015-02-01</td>\n",
              "      <td>0.729004</td>\n",
              "    </tr>\n",
              "    <tr>\n",
              "      <th>2</th>\n",
              "      <td>2015-03-01</td>\n",
              "      <td>0.217821</td>\n",
              "    </tr>\n",
              "    <tr>\n",
              "      <th>3</th>\n",
              "      <td>2015-04-01</td>\n",
              "      <td>-0.899092</td>\n",
              "    </tr>\n",
              "    <tr>\n",
              "      <th>4</th>\n",
              "      <td>2015-05-01</td>\n",
              "      <td>-2.486781</td>\n",
              "    </tr>\n",
              "    <tr>\n",
              "      <th>...</th>\n",
              "      <td>...</td>\n",
              "      <td>...</td>\n",
              "    </tr>\n",
              "    <tr>\n",
              "      <th>67</th>\n",
              "      <td>2020-08-01</td>\n",
              "      <td>-1.014648</td>\n",
              "    </tr>\n",
              "    <tr>\n",
              "      <th>68</th>\n",
              "      <td>2020-09-01</td>\n",
              "      <td>-2.132323</td>\n",
              "    </tr>\n",
              "    <tr>\n",
              "      <th>69</th>\n",
              "      <td>2020-10-01</td>\n",
              "      <td>0.173863</td>\n",
              "    </tr>\n",
              "    <tr>\n",
              "      <th>70</th>\n",
              "      <td>2020-11-01</td>\n",
              "      <td>0.951201</td>\n",
              "    </tr>\n",
              "    <tr>\n",
              "      <th>71</th>\n",
              "      <td>2020-12-01</td>\n",
              "      <td>0.441897</td>\n",
              "    </tr>\n",
              "  </tbody>\n",
              "</table>\n",
              "<p>72 rows × 2 columns</p>\n",
              "</div>"
            ],
            "text/plain": [
              "         data   valores\n",
              "0  2015-01-01 -0.311784\n",
              "1  2015-02-01  0.729004\n",
              "2  2015-03-01  0.217821\n",
              "3  2015-04-01 -0.899092\n",
              "4  2015-05-01 -2.486781\n",
              "..        ...       ...\n",
              "67 2020-08-01 -1.014648\n",
              "68 2020-09-01 -2.132323\n",
              "69 2020-10-01  0.173863\n",
              "70 2020-11-01  0.951201\n",
              "71 2020-12-01  0.441897\n",
              "\n",
              "[72 rows x 2 columns]"
            ]
          },
          "metadata": {},
          "execution_count": 54
        }
      ]
    },
    {
      "cell_type": "markdown",
      "metadata": {
        "id": "GKb56drnhOp9"
      },
      "source": [
        "Criação da série"
      ]
    },
    {
      "cell_type": "code",
      "metadata": {
        "colab": {
          "base_uri": "https://localhost:8080/"
        },
        "id": "-8-rLQhIfXvV",
        "outputId": "af39d6a6-e6c0-4148-fa44-6880d716fae2"
      },
      "source": [
        "serie2 = pd.Series(serie2['valores'].values, index = serie2['data'])\n",
        "serie2"
      ],
      "execution_count": 55,
      "outputs": [
        {
          "output_type": "execute_result",
          "data": {
            "text/plain": [
              "data\n",
              "2015-01-01   -0.311784\n",
              "2015-02-01    0.729004\n",
              "2015-03-01    0.217821\n",
              "2015-04-01   -0.899092\n",
              "2015-05-01   -2.486781\n",
              "                ...   \n",
              "2020-08-01   -1.014648\n",
              "2020-09-01   -2.132323\n",
              "2020-10-01    0.173863\n",
              "2020-11-01    0.951201\n",
              "2020-12-01    0.441897\n",
              "Length: 72, dtype: float64"
            ]
          },
          "metadata": {},
          "execution_count": 55
        }
      ]
    },
    {
      "cell_type": "code",
      "metadata": {
        "colab": {
          "base_uri": "https://localhost:8080/"
        },
        "id": "LkCPY6BCfzNe",
        "outputId": "ede29ab6-f82e-462e-c907-7bda1a0b16b9"
      },
      "source": [
        "type(serie2)"
      ],
      "execution_count": 56,
      "outputs": [
        {
          "output_type": "execute_result",
          "data": {
            "text/plain": [
              "pandas.core.series.Series"
            ]
          },
          "metadata": {},
          "execution_count": 56
        }
      ]
    },
    {
      "cell_type": "markdown",
      "metadata": {
        "id": "izI9GTTThSb1"
      },
      "source": [
        "Criação do Gráfico da Série Temporal"
      ]
    },
    {
      "cell_type": "code",
      "metadata": {
        "colab": {
          "base_uri": "https://localhost:8080/",
          "height": 404
        },
        "id": "RWP2-MvXf0tJ",
        "outputId": "a4d06c8d-da0c-41c3-a97f-052d460c5f30"
      },
      "source": [
        "serie2.plot()\n",
        "plt.xlabel('Anos')\n",
        "plt.ylabel('Valores')\n",
        "plt.title('Variação aleatória entre os meses de 2015 e 2020')\n",
        "plt.show()"
      ],
      "execution_count": 57,
      "outputs": [
        {
          "output_type": "display_data",
          "data": {
            "image/png": "[encoded data removed]",
            "text/plain": [
              "<Figure size 1080x432 with 1 Axes>"
            ]
          },
          "metadata": {
            "needs_background": "light"
          }
        }
      ]
    },
    {
      "cell_type": "markdown",
      "metadata": {
        "id": "j5keefoQgBmU"
      },
      "source": [
        "Análise da Normalidade"
      ]
    },
    {
      "cell_type": "code",
      "metadata": {
        "colab": {
          "base_uri": "https://localhost:8080/",
          "height": 404
        },
        "id": "8qWWNBPwgDMf",
        "outputId": "45c2de5e-f474-404d-d95d-2f44a6c53a96"
      },
      "source": [
        "stats.probplot(serie2, dist='norm', plot=plt)\n",
        "plt.title('Normal QQ Plot')\n",
        "plt.show()"
      ],
      "execution_count": 58,
      "outputs": [
        {
          "output_type": "display_data",
          "data": {
            "image/png": "[encoded data removed]",
            "text/plain": [
              "<Figure size 1080x432 with 1 Axes>"
            ]
          },
          "metadata": {
            "needs_background": "light"
          }
        }
      ]
    },
    {
      "cell_type": "markdown",
      "metadata": {
        "id": "qFX4t8WogL5f"
      },
      "source": [
        "Teste Shapiro Wilk \n",
        "\n",
        "* p-value > 0,05"
      ]
    },
    {
      "cell_type": "code",
      "metadata": {
        "colab": {
          "base_uri": "https://localhost:8080/"
        },
        "id": "Kwb6RI6YgQ0K",
        "outputId": "2f63e904-d8e7-4c1e-927e-6ef6de1c7f9e"
      },
      "source": [
        "e, p = stats.shapiro(serie2)\n",
        "\n",
        "print(f'Estátistica de Teste: {e}')\n",
        "print(f'p-value: {p}')"
      ],
      "execution_count": 59,
      "outputs": [
        {
          "output_type": "stream",
          "name": "stdout",
          "text": [
            "Estátistica de Teste: 0.9929385185241699\n",
            "p-value: 0.9612157940864563\n"
          ]
        }
      ]
    },
    {
      "cell_type": "markdown",
      "metadata": {
        "id": "K-15O-_cm2I6"
      },
      "source": [
        "##Série Diária"
      ]
    },
    {
      "cell_type": "code",
      "metadata": {
        "id": "TXBUi82Gm3ln"
      },
      "source": [
        ""
      ],
      "execution_count": null,
      "outputs": []
    },
    {
      "cell_type": "markdown",
      "metadata": {
        "id": "pi04gIewm3vd"
      },
      "source": [
        "##Série Trimestral"
      ]
    },
    {
      "cell_type": "code",
      "metadata": {
        "id": "0XQEHlDTm5Vw"
      },
      "source": [
        ""
      ],
      "execution_count": null,
      "outputs": []
    }
  ]
}